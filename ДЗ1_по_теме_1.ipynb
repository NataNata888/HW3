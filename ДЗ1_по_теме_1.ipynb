{
  "nbformat": 4,
  "nbformat_minor": 0,
  "metadata": {
    "colab": {
      "provenance": []
    },
    "kernelspec": {
      "name": "python3",
      "display_name": "Python 3"
    },
    "language_info": {
      "name": "python"
    }
  },
  "cells": [
    {
      "cell_type": "code",
      "execution_count": 12,
      "metadata": {
        "colab": {
          "base_uri": "https://localhost:8080/"
        },
        "id": "5fPruMzGKS2B",
        "outputId": "5ce704ad-8abb-46db-ccfa-612f9ab2a4cd"
      },
      "outputs": [
        {
          "output_type": "stream",
          "name": "stdout",
          "text": [
            "{98, 35, 15, 213, 54, 119}\n"
          ]
        }
      ],
      "source": [
        "ids = {'user1' : [213, 213, 213, 15, 213],\n",
        "       'user2' : [54,  54, 119, 119, 119],\n",
        "       'user3' : [213, 98, 98, 35]}\n",
        "\n",
        "unique_ids = []\n",
        "for key, value in ids.items() :\n",
        "    unique_ids += value\n",
        "print(set(unique_ids))"
      ]
    },
    {
      "cell_type": "code",
      "source": [
        "queries = [\n",
        "'смотреть сериалы онлайн',\n",
        "'новости спорта',\n",
        "'афиша кино',\n",
        "'курс доллара',\n",
        "'сериалы этим летом',\n",
        "'курс по питону',\n",
        "'сериалы про спорт'\n",
        "]\n",
        "\n",
        "text = []\n",
        "\n",
        "for item in queries:\n",
        "    text.append(len(item.split()))\n",
        "\n",
        "i = 1\n",
        "\n",
        "while i <= max(text):\n",
        "    if text.count(i) >0:\n",
        "        print('Поисковых запросов, содержащих', i ,'слов(а):', round(text.count(i)*100/len(text),2))\n",
        "    i += 1"
      ],
      "metadata": {
        "colab": {
          "base_uri": "https://localhost:8080/"
        },
        "id": "MEHdDraVNCh3",
        "outputId": "3b4ab9d9-5ddc-4fda-b63a-0258fd59c61a"
      },
      "execution_count": 33,
      "outputs": [
        {
          "output_type": "stream",
          "name": "stdout",
          "text": [
            "Поисковых запросов, содержащих 2 слов(а): 42.86\n",
            "Поисковых запросов, содержащих 3 слов(а): 57.14\n"
          ]
        }
      ]
    }
  ]
}